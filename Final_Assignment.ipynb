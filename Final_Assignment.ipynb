{
  "nbformat": 4,
  "nbformat_minor": 0,
  "metadata": {
    "colab": {
      "provenance": [],
      "authorship_tag": "ABX9TyMdxpbtQqyslow7ymplsxL8",
      "include_colab_link": true
    },
    "kernelspec": {
      "name": "python3",
      "display_name": "Python 3"
    },
    "language_info": {
      "name": "python"
    }
  },
  "cells": [
    {
      "cell_type": "markdown",
      "metadata": {
        "id": "view-in-github",
        "colab_type": "text"
      },
      "source": [
        "<a href=\"https://colab.research.google.com/github/vi-mcw196/IBM-coursera/blob/main/Final_Assignment.ipynb\" target=\"_parent\"><img src=\"https://colab.research.google.com/assets/colab-badge.svg\" alt=\"Open In Colab\"/></a>"
      ]
    },
    {
      "cell_type": "markdown",
      "source": [
        "# Final Assignment Viktor Moldovan"
      ],
      "metadata": {
        "id": "AQoylRCGaw17"
      }
    },
    {
      "cell_type": "markdown",
      "source": [
        "## Introduction\n"
      ],
      "metadata": {
        "id": "Exe7OvRWa9nV"
      }
    },
    {
      "cell_type": "markdown",
      "source": [
        "### Data Science Languages\n",
        "\n",
        "#### Python\n",
        "> Numpy \\\n",
        "> Pandas \\\n",
        "> Scikit-learn \\\n",
        "> TensorFlow \\\n",
        "> Matplotlib \\\n",
        "> Seaborn\n",
        "#### R\n",
        "> Dplyr \\\n",
        "> Ggplot2 \\\n",
        "> Esquisse  \\\n",
        "> Lubridate \\\n"
      ],
      "metadata": {
        "id": "Bh6EXU-9bIdd"
      }
    },
    {
      "cell_type": "code",
      "source": [],
      "metadata": {
        "id": "Z2BxLTwUbj__"
      },
      "execution_count": null,
      "outputs": []
    }
  ]
}